{
 "cells": [
  {
   "cell_type": "code",
   "execution_count": 1,
   "id": "49234b64",
   "metadata": {},
   "outputs": [],
   "source": [
    "import pandas as pd\n",
    "import numpy as np"
   ]
  },
  {
   "cell_type": "code",
   "execution_count": 3,
   "id": "a2312c60",
   "metadata": {},
   "outputs": [],
   "source": [
    "df=pd.read_excel('uber_rides_data.xlsx')"
   ]
  },
  {
   "cell_type": "code",
   "execution_count": 4,
   "id": "09179836",
   "metadata": {},
   "outputs": [
    {
     "data": {
      "text/html": [
       "<div>\n",
       "<style scoped>\n",
       "    .dataframe tbody tr th:only-of-type {\n",
       "        vertical-align: middle;\n",
       "    }\n",
       "\n",
       "    .dataframe tbody tr th {\n",
       "        vertical-align: top;\n",
       "    }\n",
       "\n",
       "    .dataframe thead th {\n",
       "        text-align: right;\n",
       "    }\n",
       "</style>\n",
       "<table border=\"1\" class=\"dataframe\">\n",
       "  <thead>\n",
       "    <tr style=\"text-align: right;\">\n",
       "      <th></th>\n",
       "      <th>ride_id</th>\n",
       "      <th>fare_amount</th>\n",
       "      <th>pickup_datetime</th>\n",
       "      <th>pickup_longitude</th>\n",
       "      <th>pickup_latitude</th>\n",
       "      <th>dropoff_longitude</th>\n",
       "      <th>dropoff_latitude</th>\n",
       "      <th>passenger_count</th>\n",
       "    </tr>\n",
       "  </thead>\n",
       "  <tbody>\n",
       "    <tr>\n",
       "      <th>0</th>\n",
       "      <td>24238194</td>\n",
       "      <td>7.5</td>\n",
       "      <td>2015-05-07 19:52:06 UTC</td>\n",
       "      <td>-73.999817</td>\n",
       "      <td>40.738354</td>\n",
       "      <td>-73.999512</td>\n",
       "      <td>40.723217</td>\n",
       "      <td>1</td>\n",
       "    </tr>\n",
       "    <tr>\n",
       "      <th>1</th>\n",
       "      <td>27835199</td>\n",
       "      <td>7.7</td>\n",
       "      <td>2009-07-17 20:04:56 UTC</td>\n",
       "      <td>-73.994355</td>\n",
       "      <td>40.728225</td>\n",
       "      <td>-73.994710</td>\n",
       "      <td>40.750325</td>\n",
       "      <td>1</td>\n",
       "    </tr>\n",
       "    <tr>\n",
       "      <th>2</th>\n",
       "      <td>44984355</td>\n",
       "      <td>12.9</td>\n",
       "      <td>2009-08-24 21:45:00 UTC</td>\n",
       "      <td>-74.005043</td>\n",
       "      <td>40.740770</td>\n",
       "      <td>-73.962565</td>\n",
       "      <td>40.772647</td>\n",
       "      <td>1</td>\n",
       "    </tr>\n",
       "    <tr>\n",
       "      <th>3</th>\n",
       "      <td>25894730</td>\n",
       "      <td>5.3</td>\n",
       "      <td>2009-06-26 08:22:21 UTC</td>\n",
       "      <td>-73.976124</td>\n",
       "      <td>40.790844</td>\n",
       "      <td>-73.965316</td>\n",
       "      <td>40.803349</td>\n",
       "      <td>3</td>\n",
       "    </tr>\n",
       "    <tr>\n",
       "      <th>4</th>\n",
       "      <td>17610152</td>\n",
       "      <td>16.0</td>\n",
       "      <td>2014-08-28 17:47:00 UTC</td>\n",
       "      <td>-73.925023</td>\n",
       "      <td>40.744085</td>\n",
       "      <td>-73.973082</td>\n",
       "      <td>40.761247</td>\n",
       "      <td>5</td>\n",
       "    </tr>\n",
       "  </tbody>\n",
       "</table>\n",
       "</div>"
      ],
      "text/plain": [
       "    ride_id  fare_amount          pickup_datetime  pickup_longitude  \\\n",
       "0  24238194          7.5  2015-05-07 19:52:06 UTC        -73.999817   \n",
       "1  27835199          7.7  2009-07-17 20:04:56 UTC        -73.994355   \n",
       "2  44984355         12.9  2009-08-24 21:45:00 UTC        -74.005043   \n",
       "3  25894730          5.3  2009-06-26 08:22:21 UTC        -73.976124   \n",
       "4  17610152         16.0  2014-08-28 17:47:00 UTC        -73.925023   \n",
       "\n",
       "   pickup_latitude  dropoff_longitude  dropoff_latitude  passenger_count  \n",
       "0        40.738354         -73.999512         40.723217                1  \n",
       "1        40.728225         -73.994710         40.750325                1  \n",
       "2        40.740770         -73.962565         40.772647                1  \n",
       "3        40.790844         -73.965316         40.803349                3  \n",
       "4        40.744085         -73.973082         40.761247                5  "
      ]
     },
     "execution_count": 4,
     "metadata": {},
     "output_type": "execute_result"
    }
   ],
   "source": [
    "df.head()"
   ]
  },
  {
   "cell_type": "code",
   "execution_count": 5,
   "id": "9686ecd7",
   "metadata": {},
   "outputs": [
    {
     "data": {
      "text/plain": [
       "Index(['ride_id', 'fare_amount', 'pickup_datetime', 'pickup_longitude',\n",
       "       'pickup_latitude', 'dropoff_longitude', 'dropoff_latitude',\n",
       "       'passenger_count'],\n",
       "      dtype='object')"
      ]
     },
     "execution_count": 5,
     "metadata": {},
     "output_type": "execute_result"
    }
   ],
   "source": [
    "df.columns"
   ]
  },
  {
   "cell_type": "code",
   "execution_count": 8,
   "id": "42c641e1",
   "metadata": {},
   "outputs": [
    {
     "data": {
      "text/plain": [
       "ride_id              0\n",
       "fare_amount          0\n",
       "pickup_datetime      0\n",
       "pickup_longitude     0\n",
       "pickup_latitude      0\n",
       "dropoff_longitude    1\n",
       "dropoff_latitude     1\n",
       "passenger_count      0\n",
       "dtype: int64"
      ]
     },
     "execution_count": 8,
     "metadata": {},
     "output_type": "execute_result"
    }
   ],
   "source": [
    "df.isnull().sum()"
   ]
  },
  {
   "cell_type": "code",
   "execution_count": 10,
   "id": "a800b9e6",
   "metadata": {},
   "outputs": [
    {
     "data": {
      "text/plain": [
       "(200000, 8)"
      ]
     },
     "execution_count": 10,
     "metadata": {},
     "output_type": "execute_result"
    }
   ],
   "source": [
    "df.shape"
   ]
  },
  {
   "cell_type": "code",
   "execution_count": 28,
   "id": "4937447c",
   "metadata": {},
   "outputs": [
    {
     "data": {
      "text/plain": [
       "ride_id                int64\n",
       "fare_amount          float64\n",
       "pickup_datetime       object\n",
       "pickup_longitude     float64\n",
       "pickup_latitude      float64\n",
       "dropoff_longitude    float64\n",
       "dropoff_latitude     float64\n",
       "passenger_count        int64\n",
       "dtype: object"
      ]
     },
     "execution_count": 28,
     "metadata": {},
     "output_type": "execute_result"
    }
   ],
   "source": [
    "df.dtypes"
   ]
  },
  {
   "cell_type": "code",
   "execution_count": 32,
   "id": "bd979599",
   "metadata": {},
   "outputs": [],
   "source": [
    "df['pickup_datetime']=pd.to_datetime(df['pickup_datetime'])\n"
   ]
  },
  {
   "cell_type": "code",
   "execution_count": 33,
   "id": "e30d34e1",
   "metadata": {},
   "outputs": [
    {
     "data": {
      "text/plain": [
       "ride_id                            int64\n",
       "fare_amount                      float64\n",
       "pickup_datetime      datetime64[ns, UTC]\n",
       "pickup_longitude                 float64\n",
       "pickup_latitude                  float64\n",
       "dropoff_longitude                float64\n",
       "dropoff_latitude                 float64\n",
       "passenger_count                    int64\n",
       "dtype: object"
      ]
     },
     "execution_count": 33,
     "metadata": {},
     "output_type": "execute_result"
    }
   ],
   "source": [
    "df.dtypes"
   ]
  },
  {
   "cell_type": "code",
   "execution_count": 34,
   "id": "262e28da",
   "metadata": {},
   "outputs": [],
   "source": [
    "cleaned_df=df.dropna()"
   ]
  },
  {
   "cell_type": "code",
   "execution_count": 36,
   "id": "c7cfc90f",
   "metadata": {},
   "outputs": [
    {
     "data": {
      "text/plain": [
       "ride_id              0\n",
       "fare_amount          0\n",
       "pickup_datetime      0\n",
       "pickup_longitude     0\n",
       "pickup_latitude      0\n",
       "dropoff_longitude    0\n",
       "dropoff_latitude     0\n",
       "passenger_count      0\n",
       "dtype: int64"
      ]
     },
     "execution_count": 36,
     "metadata": {},
     "output_type": "execute_result"
    }
   ],
   "source": [
    "cleaned_df.isnull().sum()"
   ]
  },
  {
   "cell_type": "code",
   "execution_count": 37,
   "id": "617e7b54",
   "metadata": {},
   "outputs": [
    {
     "data": {
      "text/plain": [
       "Index(['ride_id', 'fare_amount', 'pickup_datetime', 'pickup_longitude',\n",
       "       'pickup_latitude', 'dropoff_longitude', 'dropoff_latitude',\n",
       "       'passenger_count'],\n",
       "      dtype='object')"
      ]
     },
     "execution_count": 37,
     "metadata": {},
     "output_type": "execute_result"
    }
   ],
   "source": [
    "cleaned_df.columns"
   ]
  },
  {
   "cell_type": "code",
   "execution_count": 38,
   "id": "0a6aed7a",
   "metadata": {},
   "outputs": [
    {
     "data": {
      "text/plain": [
       "11.359891549458371"
      ]
     },
     "execution_count": 38,
     "metadata": {},
     "output_type": "execute_result"
    }
   ],
   "source": [
    "cleaned_df['fare_amount'].mean()"
   ]
  },
  {
   "cell_type": "code",
   "execution_count": 39,
   "id": "e7e82711",
   "metadata": {},
   "outputs": [
    {
     "data": {
      "text/html": [
       "<div>\n",
       "<style scoped>\n",
       "    .dataframe tbody tr th:only-of-type {\n",
       "        vertical-align: middle;\n",
       "    }\n",
       "\n",
       "    .dataframe tbody tr th {\n",
       "        vertical-align: top;\n",
       "    }\n",
       "\n",
       "    .dataframe thead th {\n",
       "        text-align: right;\n",
       "    }\n",
       "</style>\n",
       "<table border=\"1\" class=\"dataframe\">\n",
       "  <thead>\n",
       "    <tr style=\"text-align: right;\">\n",
       "      <th></th>\n",
       "      <th>ride_id</th>\n",
       "      <th>fare_amount</th>\n",
       "      <th>pickup_datetime</th>\n",
       "      <th>pickup_longitude</th>\n",
       "      <th>pickup_latitude</th>\n",
       "      <th>dropoff_longitude</th>\n",
       "      <th>dropoff_latitude</th>\n",
       "      <th>passenger_count</th>\n",
       "    </tr>\n",
       "  </thead>\n",
       "  <tbody>\n",
       "    <tr>\n",
       "      <th>0</th>\n",
       "      <td>24238194</td>\n",
       "      <td>7.5</td>\n",
       "      <td>2015-05-07 19:52:06+00:00</td>\n",
       "      <td>-73.999817</td>\n",
       "      <td>40.738354</td>\n",
       "      <td>-73.999512</td>\n",
       "      <td>40.723217</td>\n",
       "      <td>1</td>\n",
       "    </tr>\n",
       "    <tr>\n",
       "      <th>1</th>\n",
       "      <td>27835199</td>\n",
       "      <td>7.7</td>\n",
       "      <td>2009-07-17 20:04:56+00:00</td>\n",
       "      <td>-73.994355</td>\n",
       "      <td>40.728225</td>\n",
       "      <td>-73.994710</td>\n",
       "      <td>40.750325</td>\n",
       "      <td>1</td>\n",
       "    </tr>\n",
       "    <tr>\n",
       "      <th>2</th>\n",
       "      <td>44984355</td>\n",
       "      <td>12.9</td>\n",
       "      <td>2009-08-24 21:45:00+00:00</td>\n",
       "      <td>-74.005043</td>\n",
       "      <td>40.740770</td>\n",
       "      <td>-73.962565</td>\n",
       "      <td>40.772647</td>\n",
       "      <td>1</td>\n",
       "    </tr>\n",
       "    <tr>\n",
       "      <th>3</th>\n",
       "      <td>25894730</td>\n",
       "      <td>5.3</td>\n",
       "      <td>2009-06-26 08:22:21+00:00</td>\n",
       "      <td>-73.976124</td>\n",
       "      <td>40.790844</td>\n",
       "      <td>-73.965316</td>\n",
       "      <td>40.803349</td>\n",
       "      <td>3</td>\n",
       "    </tr>\n",
       "    <tr>\n",
       "      <th>4</th>\n",
       "      <td>17610152</td>\n",
       "      <td>16.0</td>\n",
       "      <td>2014-08-28 17:47:00+00:00</td>\n",
       "      <td>-73.925023</td>\n",
       "      <td>40.744085</td>\n",
       "      <td>-73.973082</td>\n",
       "      <td>40.761247</td>\n",
       "      <td>5</td>\n",
       "    </tr>\n",
       "  </tbody>\n",
       "</table>\n",
       "</div>"
      ],
      "text/plain": [
       "    ride_id  fare_amount           pickup_datetime  pickup_longitude  \\\n",
       "0  24238194          7.5 2015-05-07 19:52:06+00:00        -73.999817   \n",
       "1  27835199          7.7 2009-07-17 20:04:56+00:00        -73.994355   \n",
       "2  44984355         12.9 2009-08-24 21:45:00+00:00        -74.005043   \n",
       "3  25894730          5.3 2009-06-26 08:22:21+00:00        -73.976124   \n",
       "4  17610152         16.0 2014-08-28 17:47:00+00:00        -73.925023   \n",
       "\n",
       "   pickup_latitude  dropoff_longitude  dropoff_latitude  passenger_count  \n",
       "0        40.738354         -73.999512         40.723217                1  \n",
       "1        40.728225         -73.994710         40.750325                1  \n",
       "2        40.740770         -73.962565         40.772647                1  \n",
       "3        40.790844         -73.965316         40.803349                3  \n",
       "4        40.744085         -73.973082         40.761247                5  "
      ]
     },
     "execution_count": 39,
     "metadata": {},
     "output_type": "execute_result"
    }
   ],
   "source": [
    "cleaned_df.head()"
   ]
  },
  {
   "cell_type": "code",
   "execution_count": 40,
   "id": "93c49313",
   "metadata": {},
   "outputs": [],
   "source": [
    "def haversine(lat1, lon1, lat2, lon2):\n",
    "    # Convert latitude and longitude from degrees to radians\n",
    "    lat1, lon1, lat2, lon2 = map(np.radians, [lat1, lon1, lat2, lon2])\n",
    "\n",
    "    # Haversine formula\n",
    "    dlat = lat2 - lat1\n",
    "    dlon = lon2 - lon1\n",
    "    a = np.sin(dlat/2)**2 + np.cos(lat1) * np.cos(lat2) * np.sin(dlon/2)**2\n",
    "    c = 2 * np.arcsin(np.sqrt(a))\n",
    "    \n",
    "    # Radius of Earth in kilometers (mean value)\n",
    "    r = 6371.0\n",
    "    \n",
    "    # Calculate the distance\n",
    "    distance = c * r\n",
    "    \n",
    "    return distance\n"
   ]
  },
  {
   "cell_type": "code",
   "execution_count": 41,
   "id": "cd7c104d",
   "metadata": {},
   "outputs": [
    {
     "name": "stderr",
     "output_type": "stream",
     "text": [
      "C:\\Users\\sarath chandra\\AppData\\Local\\Temp\\ipykernel_17448\\2116635713.py:1: SettingWithCopyWarning: \n",
      "A value is trying to be set on a copy of a slice from a DataFrame.\n",
      "Try using .loc[row_indexer,col_indexer] = value instead\n",
      "\n",
      "See the caveats in the documentation: https://pandas.pydata.org/pandas-docs/stable/user_guide/indexing.html#returning-a-view-versus-a-copy\n",
      "  cleaned_df['distance_km'] = cleaned_df.apply(lambda row: haversine(row['pickup_latitude'], row['pickup_longitude'], row['dropoff_latitude'], row['dropoff_longitude']), axis=1)\n"
     ]
    }
   ],
   "source": [
    "cleaned_df['distance_km'] = cleaned_df.apply(lambda row: haversine(row['pickup_latitude'], row['pickup_longitude'], row['dropoff_latitude'], row['dropoff_longitude']), axis=1)\n"
   ]
  },
  {
   "cell_type": "code",
   "execution_count": 42,
   "id": "89f6a912",
   "metadata": {},
   "outputs": [
    {
     "data": {
      "text/html": [
       "<div>\n",
       "<style scoped>\n",
       "    .dataframe tbody tr th:only-of-type {\n",
       "        vertical-align: middle;\n",
       "    }\n",
       "\n",
       "    .dataframe tbody tr th {\n",
       "        vertical-align: top;\n",
       "    }\n",
       "\n",
       "    .dataframe thead th {\n",
       "        text-align: right;\n",
       "    }\n",
       "</style>\n",
       "<table border=\"1\" class=\"dataframe\">\n",
       "  <thead>\n",
       "    <tr style=\"text-align: right;\">\n",
       "      <th></th>\n",
       "      <th>ride_id</th>\n",
       "      <th>fare_amount</th>\n",
       "      <th>pickup_datetime</th>\n",
       "      <th>pickup_longitude</th>\n",
       "      <th>pickup_latitude</th>\n",
       "      <th>dropoff_longitude</th>\n",
       "      <th>dropoff_latitude</th>\n",
       "      <th>passenger_count</th>\n",
       "      <th>distance_km</th>\n",
       "    </tr>\n",
       "  </thead>\n",
       "  <tbody>\n",
       "    <tr>\n",
       "      <th>0</th>\n",
       "      <td>24238194</td>\n",
       "      <td>7.5</td>\n",
       "      <td>2015-05-07 19:52:06+00:00</td>\n",
       "      <td>-73.999817</td>\n",
       "      <td>40.738354</td>\n",
       "      <td>-73.999512</td>\n",
       "      <td>40.723217</td>\n",
       "      <td>1</td>\n",
       "      <td>1.683323</td>\n",
       "    </tr>\n",
       "    <tr>\n",
       "      <th>1</th>\n",
       "      <td>27835199</td>\n",
       "      <td>7.7</td>\n",
       "      <td>2009-07-17 20:04:56+00:00</td>\n",
       "      <td>-73.994355</td>\n",
       "      <td>40.728225</td>\n",
       "      <td>-73.994710</td>\n",
       "      <td>40.750325</td>\n",
       "      <td>1</td>\n",
       "      <td>2.457590</td>\n",
       "    </tr>\n",
       "    <tr>\n",
       "      <th>2</th>\n",
       "      <td>44984355</td>\n",
       "      <td>12.9</td>\n",
       "      <td>2009-08-24 21:45:00+00:00</td>\n",
       "      <td>-74.005043</td>\n",
       "      <td>40.740770</td>\n",
       "      <td>-73.962565</td>\n",
       "      <td>40.772647</td>\n",
       "      <td>1</td>\n",
       "      <td>5.036377</td>\n",
       "    </tr>\n",
       "    <tr>\n",
       "      <th>3</th>\n",
       "      <td>25894730</td>\n",
       "      <td>5.3</td>\n",
       "      <td>2009-06-26 08:22:21+00:00</td>\n",
       "      <td>-73.976124</td>\n",
       "      <td>40.790844</td>\n",
       "      <td>-73.965316</td>\n",
       "      <td>40.803349</td>\n",
       "      <td>3</td>\n",
       "      <td>1.661683</td>\n",
       "    </tr>\n",
       "    <tr>\n",
       "      <th>4</th>\n",
       "      <td>17610152</td>\n",
       "      <td>16.0</td>\n",
       "      <td>2014-08-28 17:47:00+00:00</td>\n",
       "      <td>-73.925023</td>\n",
       "      <td>40.744085</td>\n",
       "      <td>-73.973082</td>\n",
       "      <td>40.761247</td>\n",
       "      <td>5</td>\n",
       "      <td>4.475450</td>\n",
       "    </tr>\n",
       "  </tbody>\n",
       "</table>\n",
       "</div>"
      ],
      "text/plain": [
       "    ride_id  fare_amount           pickup_datetime  pickup_longitude  \\\n",
       "0  24238194          7.5 2015-05-07 19:52:06+00:00        -73.999817   \n",
       "1  27835199          7.7 2009-07-17 20:04:56+00:00        -73.994355   \n",
       "2  44984355         12.9 2009-08-24 21:45:00+00:00        -74.005043   \n",
       "3  25894730          5.3 2009-06-26 08:22:21+00:00        -73.976124   \n",
       "4  17610152         16.0 2014-08-28 17:47:00+00:00        -73.925023   \n",
       "\n",
       "   pickup_latitude  dropoff_longitude  dropoff_latitude  passenger_count  \\\n",
       "0        40.738354         -73.999512         40.723217                1   \n",
       "1        40.728225         -73.994710         40.750325                1   \n",
       "2        40.740770         -73.962565         40.772647                1   \n",
       "3        40.790844         -73.965316         40.803349                3   \n",
       "4        40.744085         -73.973082         40.761247                5   \n",
       "\n",
       "   distance_km  \n",
       "0     1.683323  \n",
       "1     2.457590  \n",
       "2     5.036377  \n",
       "3     1.661683  \n",
       "4     4.475450  "
      ]
     },
     "execution_count": 42,
     "metadata": {},
     "output_type": "execute_result"
    }
   ],
   "source": [
    "cleaned_df.head()"
   ]
  },
  {
   "cell_type": "code",
   "execution_count": 43,
   "id": "0a972885",
   "metadata": {},
   "outputs": [
    {
     "data": {
      "text/plain": [
       "2.120992396182902"
      ]
     },
     "execution_count": 43,
     "metadata": {},
     "output_type": "execute_result"
    }
   ],
   "source": [
    "cleaned_df['distance_km'].median()"
   ]
  },
  {
   "cell_type": "code",
   "execution_count": 44,
   "id": "7ffc6c23",
   "metadata": {},
   "outputs": [
    {
     "data": {
      "text/plain": [
       "16409.239135313168"
      ]
     },
     "execution_count": 44,
     "metadata": {},
     "output_type": "execute_result"
    }
   ],
   "source": [
    "cleaned_df['distance_km'].max()"
   ]
  },
  {
   "cell_type": "code",
   "execution_count": 45,
   "id": "41111bed",
   "metadata": {},
   "outputs": [
    {
     "name": "stdout",
     "output_type": "stream",
     "text": [
      "Number of rides with 0.0 Haversine distance: 5632\n"
     ]
    }
   ],
   "source": [
    "# Count rides with a Haversine distance of 0.0\n",
    "zero_distance_rides = cleaned_df[cleaned_df['distance_km'] == 0.0]\n",
    "\n",
    "# Get the count of such rides\n",
    "count_zero_distance_rides = len(zero_distance_rides)\n",
    "\n",
    "print(\"Number of rides with 0.0 Haversine distance:\", count_zero_distance_rides)"
   ]
  },
  {
   "cell_type": "code",
   "execution_count": 47,
   "id": "4772319e",
   "metadata": {},
   "outputs": [],
   "source": [
    "mean_fare_amount_zero_distance = zero_distance_rides['fare_amount'].mean()"
   ]
  },
  {
   "cell_type": "code",
   "execution_count": 48,
   "id": "3aed12f4",
   "metadata": {},
   "outputs": [
    {
     "name": "stdout",
     "output_type": "stream",
     "text": [
      "Mean 'fare_amount' for rides with 0.0 Haversine distance: 11.585317826704578\n"
     ]
    }
   ],
   "source": [
    "print(\"Mean 'fare_amount' for rides with 0.0 Haversine distance:\", mean_fare_amount_zero_distance)"
   ]
  },
  {
   "cell_type": "markdown",
   "id": "8b0c5bc5",
   "metadata": {},
   "source": [
    "If the distance is zero it means that there has been no ride done by the uber drivers which means that fare should be zero.But the dataset is showing fare amount mean as 11.5 usd for 0 distance covered.Possible reasons could be-\n",
    "1.incorrect fare entries by the drivers\n",
    "2.outliers in dataset\n",
    "3.incomplete data set\n",
    "4.drivers trying to cheat uber"
   ]
  },
  {
   "cell_type": "code",
   "execution_count": 50,
   "id": "92622996",
   "metadata": {},
   "outputs": [
    {
     "data": {
      "text/plain": [
       "499.0"
      ]
     },
     "execution_count": 50,
     "metadata": {},
     "output_type": "execute_result"
    }
   ],
   "source": [
    "cleaned_df['fare_amount'].max()"
   ]
  },
  {
   "cell_type": "code",
   "execution_count": 51,
   "id": "174f955c",
   "metadata": {},
   "outputs": [
    {
     "name": "stdout",
     "output_type": "stream",
     "text": [
      "Haversine distance for the costliest ride: 0.0007899213191009994 km\n"
     ]
    }
   ],
   "source": [
    "# Find the row with the highest 'fare_amount'\n",
    "costliest_ride = cleaned_df[cleaned_df['fare_amount'] == cleaned_df['fare_amount'].max()]\n",
    "\n",
    "# Retrieve the Haversine distance for the costliest ride\n",
    "distance_costliest_ride = costliest_ride['distance_km'].values[0]\n",
    "\n",
    "print(\"Haversine distance for the costliest ride:\", distance_costliest_ride, \"km\")"
   ]
  },
  {
   "cell_type": "markdown",
   "id": "ea7354d8",
   "metadata": {},
   "source": [
    "In the real world scenario its not possible to charge 499 for 0.000078 km.But in the data set the above case happened.It may happen beacause of the following possibilities\n",
    "1.Wrong fare entries\n",
    "2.outliers\n",
    "3.incomplete data\n",
    "its a very imp issue which needs to be resolved"
   ]
  },
  {
   "cell_type": "code",
   "execution_count": 52,
   "id": "218c6525",
   "metadata": {},
   "outputs": [
    {
     "name": "stdout",
     "output_type": "stream",
     "text": [
      "Number of rides recorded in the year 2014: 29968\n"
     ]
    },
    {
     "name": "stderr",
     "output_type": "stream",
     "text": [
      "C:\\Users\\sarath chandra\\AppData\\Local\\Temp\\ipykernel_17448\\950285609.py:2: SettingWithCopyWarning: \n",
      "A value is trying to be set on a copy of a slice from a DataFrame.\n",
      "Try using .loc[row_indexer,col_indexer] = value instead\n",
      "\n",
      "See the caveats in the documentation: https://pandas.pydata.org/pandas-docs/stable/user_guide/indexing.html#returning-a-view-versus-a-copy\n",
      "  cleaned_df['year'] = cleaned_df['pickup_datetime'].dt.year\n"
     ]
    }
   ],
   "source": [
    "# Extract the year from the 'pickup_datetime' column\n",
    "cleaned_df['year'] = cleaned_df['pickup_datetime'].dt.year\n",
    "\n",
    "# Count the number of rides in the year 2014\n",
    "rides_2014 = len(cleaned_df[cleaned_df['year'] == 2014])\n",
    "\n",
    "print(\"Number of rides recorded in the year 2014:\", rides_2014)"
   ]
  },
  {
   "cell_type": "code",
   "execution_count": 54,
   "id": "37f063a1",
   "metadata": {},
   "outputs": [
    {
     "name": "stdout",
     "output_type": "stream",
     "text": [
      "Number of rides recorded in the first quarter of 2014: 7687\n"
     ]
    },
    {
     "name": "stderr",
     "output_type": "stream",
     "text": [
      "C:\\Users\\sarath chandra\\AppData\\Local\\Temp\\ipykernel_17448\\114405238.py:2: SettingWithCopyWarning: \n",
      "A value is trying to be set on a copy of a slice from a DataFrame.\n",
      "Try using .loc[row_indexer,col_indexer] = value instead\n",
      "\n",
      "See the caveats in the documentation: https://pandas.pydata.org/pandas-docs/stable/user_guide/indexing.html#returning-a-view-versus-a-copy\n",
      "  cleaned_df['quarter'] = cleaned_df['pickup_datetime'].dt.quarter\n"
     ]
    }
   ],
   "source": [
    "# Extract the quarter from the 'pickup_datetime' column\n",
    "cleaned_df['quarter'] = cleaned_df['pickup_datetime'].dt.quarter\n",
    "\n",
    "# Count the number of rides in the first quarter of 2014\n",
    "rides_first_quarter_2014 = len(cleaned_df[(cleaned_df['year'] == 2014) & (cleaned_df['quarter'] == 1)])\n",
    "\n",
    "print(\"Number of rides recorded in the first quarter of 2014:\", rides_first_quarter_2014)"
   ]
  },
  {
   "cell_type": "code",
   "execution_count": 56,
   "id": "eb95703b",
   "metadata": {},
   "outputs": [
    {
     "name": "stdout",
     "output_type": "stream",
     "text": [
      "                 pickup_datetime ride_week_day\n",
      "0      2015-05-07 19:52:06+00:00      Thursday\n",
      "1      2009-07-17 20:04:56+00:00        Friday\n",
      "2      2009-08-24 21:45:00+00:00        Monday\n",
      "3      2009-06-26 08:22:21+00:00        Friday\n",
      "4      2014-08-28 17:47:00+00:00      Thursday\n",
      "...                          ...           ...\n",
      "199995 2012-10-28 10:49:00+00:00        Sunday\n",
      "199996 2014-03-14 01:09:00+00:00        Friday\n",
      "199997 2009-06-29 00:42:00+00:00        Monday\n",
      "199998 2015-05-20 14:56:25+00:00     Wednesday\n",
      "199999 2010-05-15 04:08:00+00:00      Saturday\n",
      "\n",
      "[199999 rows x 2 columns]\n"
     ]
    },
    {
     "name": "stderr",
     "output_type": "stream",
     "text": [
      "C:\\Users\\sarath chandra\\AppData\\Local\\Temp\\ipykernel_17448\\163917709.py:2: SettingWithCopyWarning: \n",
      "A value is trying to be set on a copy of a slice from a DataFrame.\n",
      "Try using .loc[row_indexer,col_indexer] = value instead\n",
      "\n",
      "See the caveats in the documentation: https://pandas.pydata.org/pandas-docs/stable/user_guide/indexing.html#returning-a-view-versus-a-copy\n",
      "  cleaned_df['ride_week_day'] = cleaned_df['pickup_datetime'].dt.day_name()\n"
     ]
    }
   ],
   "source": [
    "# Create a new column 'ride_week_day' to store the day of the week\n",
    "cleaned_df['ride_week_day'] = cleaned_df['pickup_datetime'].dt.day_name()\n",
    "\n",
    "# Display the DataFrame with the new column\n",
    "print(cleaned_df[['pickup_datetime', 'ride_week_day']])"
   ]
  },
  {
   "cell_type": "code",
   "execution_count": 57,
   "id": "6bb6b71d",
   "metadata": {},
   "outputs": [
    {
     "data": {
      "text/html": [
       "<div>\n",
       "<style scoped>\n",
       "    .dataframe tbody tr th:only-of-type {\n",
       "        vertical-align: middle;\n",
       "    }\n",
       "\n",
       "    .dataframe tbody tr th {\n",
       "        vertical-align: top;\n",
       "    }\n",
       "\n",
       "    .dataframe thead th {\n",
       "        text-align: right;\n",
       "    }\n",
       "</style>\n",
       "<table border=\"1\" class=\"dataframe\">\n",
       "  <thead>\n",
       "    <tr style=\"text-align: right;\">\n",
       "      <th></th>\n",
       "      <th>ride_id</th>\n",
       "      <th>fare_amount</th>\n",
       "      <th>pickup_datetime</th>\n",
       "      <th>pickup_longitude</th>\n",
       "      <th>pickup_latitude</th>\n",
       "      <th>dropoff_longitude</th>\n",
       "      <th>dropoff_latitude</th>\n",
       "      <th>passenger_count</th>\n",
       "      <th>distance_km</th>\n",
       "      <th>year</th>\n",
       "      <th>quarter</th>\n",
       "      <th>day_of_week</th>\n",
       "      <th>ride_week_day</th>\n",
       "    </tr>\n",
       "  </thead>\n",
       "  <tbody>\n",
       "    <tr>\n",
       "      <th>0</th>\n",
       "      <td>24238194</td>\n",
       "      <td>7.5</td>\n",
       "      <td>2015-05-07 19:52:06+00:00</td>\n",
       "      <td>-73.999817</td>\n",
       "      <td>40.738354</td>\n",
       "      <td>-73.999512</td>\n",
       "      <td>40.723217</td>\n",
       "      <td>1</td>\n",
       "      <td>1.683323</td>\n",
       "      <td>2015</td>\n",
       "      <td>2</td>\n",
       "      <td>Thursday</td>\n",
       "      <td>Thursday</td>\n",
       "    </tr>\n",
       "    <tr>\n",
       "      <th>1</th>\n",
       "      <td>27835199</td>\n",
       "      <td>7.7</td>\n",
       "      <td>2009-07-17 20:04:56+00:00</td>\n",
       "      <td>-73.994355</td>\n",
       "      <td>40.728225</td>\n",
       "      <td>-73.994710</td>\n",
       "      <td>40.750325</td>\n",
       "      <td>1</td>\n",
       "      <td>2.457590</td>\n",
       "      <td>2009</td>\n",
       "      <td>3</td>\n",
       "      <td>Friday</td>\n",
       "      <td>Friday</td>\n",
       "    </tr>\n",
       "    <tr>\n",
       "      <th>2</th>\n",
       "      <td>44984355</td>\n",
       "      <td>12.9</td>\n",
       "      <td>2009-08-24 21:45:00+00:00</td>\n",
       "      <td>-74.005043</td>\n",
       "      <td>40.740770</td>\n",
       "      <td>-73.962565</td>\n",
       "      <td>40.772647</td>\n",
       "      <td>1</td>\n",
       "      <td>5.036377</td>\n",
       "      <td>2009</td>\n",
       "      <td>3</td>\n",
       "      <td>Monday</td>\n",
       "      <td>Monday</td>\n",
       "    </tr>\n",
       "    <tr>\n",
       "      <th>3</th>\n",
       "      <td>25894730</td>\n",
       "      <td>5.3</td>\n",
       "      <td>2009-06-26 08:22:21+00:00</td>\n",
       "      <td>-73.976124</td>\n",
       "      <td>40.790844</td>\n",
       "      <td>-73.965316</td>\n",
       "      <td>40.803349</td>\n",
       "      <td>3</td>\n",
       "      <td>1.661683</td>\n",
       "      <td>2009</td>\n",
       "      <td>2</td>\n",
       "      <td>Friday</td>\n",
       "      <td>Friday</td>\n",
       "    </tr>\n",
       "    <tr>\n",
       "      <th>4</th>\n",
       "      <td>17610152</td>\n",
       "      <td>16.0</td>\n",
       "      <td>2014-08-28 17:47:00+00:00</td>\n",
       "      <td>-73.925023</td>\n",
       "      <td>40.744085</td>\n",
       "      <td>-73.973082</td>\n",
       "      <td>40.761247</td>\n",
       "      <td>5</td>\n",
       "      <td>4.475450</td>\n",
       "      <td>2014</td>\n",
       "      <td>3</td>\n",
       "      <td>Thursday</td>\n",
       "      <td>Thursday</td>\n",
       "    </tr>\n",
       "  </tbody>\n",
       "</table>\n",
       "</div>"
      ],
      "text/plain": [
       "    ride_id  fare_amount           pickup_datetime  pickup_longitude  \\\n",
       "0  24238194          7.5 2015-05-07 19:52:06+00:00        -73.999817   \n",
       "1  27835199          7.7 2009-07-17 20:04:56+00:00        -73.994355   \n",
       "2  44984355         12.9 2009-08-24 21:45:00+00:00        -74.005043   \n",
       "3  25894730          5.3 2009-06-26 08:22:21+00:00        -73.976124   \n",
       "4  17610152         16.0 2014-08-28 17:47:00+00:00        -73.925023   \n",
       "\n",
       "   pickup_latitude  dropoff_longitude  dropoff_latitude  passenger_count  \\\n",
       "0        40.738354         -73.999512         40.723217                1   \n",
       "1        40.728225         -73.994710         40.750325                1   \n",
       "2        40.740770         -73.962565         40.772647                1   \n",
       "3        40.790844         -73.965316         40.803349                3   \n",
       "4        40.744085         -73.973082         40.761247                5   \n",
       "\n",
       "   distance_km  year  quarter day_of_week ride_week_day  \n",
       "0     1.683323  2015        2    Thursday      Thursday  \n",
       "1     2.457590  2009        3      Friday        Friday  \n",
       "2     5.036377  2009        3      Monday        Monday  \n",
       "3     1.661683  2009        2      Friday        Friday  \n",
       "4     4.475450  2014        3    Thursday      Thursday  "
      ]
     },
     "execution_count": 57,
     "metadata": {},
     "output_type": "execute_result"
    }
   ],
   "source": [
    "cleaned_df.head()"
   ]
  },
  {
   "cell_type": "code",
   "execution_count": 55,
   "id": "5e3c4a3b",
   "metadata": {},
   "outputs": [
    {
     "name": "stderr",
     "output_type": "stream",
     "text": [
      "C:\\Users\\sarath chandra\\AppData\\Local\\Temp\\ipykernel_17448\\1976754114.py:2: SettingWithCopyWarning: \n",
      "A value is trying to be set on a copy of a slice from a DataFrame.\n",
      "Try using .loc[row_indexer,col_indexer] = value instead\n",
      "\n",
      "See the caveats in the documentation: https://pandas.pydata.org/pandas-docs/stable/user_guide/indexing.html#returning-a-view-versus-a-copy\n",
      "  cleaned_df['day_of_week'] = cleaned_df['pickup_datetime'].dt.day_name()\n"
     ]
    },
    {
     "name": "stdout",
     "output_type": "stream",
     "text": [
      "Day of the week in September 2010 with the maximum rides: Thursday\n"
     ]
    }
   ],
   "source": [
    "# Extract the day of the week from the 'pickup_datetime' column and create a new column\n",
    "cleaned_df['day_of_week'] = cleaned_df['pickup_datetime'].dt.day_name()\n",
    "\n",
    "# Filter the data for September 2010\n",
    "september_2010_rides = cleaned_df[(cleaned_df['pickup_datetime'].dt.year == 2010) & (cleaned_df['pickup_datetime'].dt.month == 9)]\n",
    "\n",
    "# Find the day of the week with the maximum rides\n",
    "max_rides_day = september_2010_rides['day_of_week'].value_counts().idxmax()\n",
    "\n",
    "print(\"Day of the week in September 2010 with the maximum rides:\", max_rides_day)"
   ]
  },
  {
   "cell_type": "markdown",
   "id": "12988ffa",
   "metadata": {},
   "source": [
    "# ML SPRINT 2"
   ]
  },
  {
   "cell_type": "code",
   "execution_count": 58,
   "id": "324b2708",
   "metadata": {},
   "outputs": [],
   "source": [
    "#inputs and outputs\n",
    "X=cleaned_df[['passenger_count','distance_km','ride_week_day']]\n",
    "y=cleaned_df['fare_amount']"
   ]
  },
  {
   "cell_type": "code",
   "execution_count": 59,
   "id": "ac86176a",
   "metadata": {},
   "outputs": [
    {
     "data": {
      "text/html": [
       "<div>\n",
       "<style scoped>\n",
       "    .dataframe tbody tr th:only-of-type {\n",
       "        vertical-align: middle;\n",
       "    }\n",
       "\n",
       "    .dataframe tbody tr th {\n",
       "        vertical-align: top;\n",
       "    }\n",
       "\n",
       "    .dataframe thead th {\n",
       "        text-align: right;\n",
       "    }\n",
       "</style>\n",
       "<table border=\"1\" class=\"dataframe\">\n",
       "  <thead>\n",
       "    <tr style=\"text-align: right;\">\n",
       "      <th></th>\n",
       "      <th>passenger_count</th>\n",
       "      <th>distance_km</th>\n",
       "      <th>ride_week_day</th>\n",
       "    </tr>\n",
       "  </thead>\n",
       "  <tbody>\n",
       "    <tr>\n",
       "      <th>0</th>\n",
       "      <td>1</td>\n",
       "      <td>1.683323</td>\n",
       "      <td>Thursday</td>\n",
       "    </tr>\n",
       "    <tr>\n",
       "      <th>1</th>\n",
       "      <td>1</td>\n",
       "      <td>2.457590</td>\n",
       "      <td>Friday</td>\n",
       "    </tr>\n",
       "    <tr>\n",
       "      <th>2</th>\n",
       "      <td>1</td>\n",
       "      <td>5.036377</td>\n",
       "      <td>Monday</td>\n",
       "    </tr>\n",
       "    <tr>\n",
       "      <th>3</th>\n",
       "      <td>3</td>\n",
       "      <td>1.661683</td>\n",
       "      <td>Friday</td>\n",
       "    </tr>\n",
       "    <tr>\n",
       "      <th>4</th>\n",
       "      <td>5</td>\n",
       "      <td>4.475450</td>\n",
       "      <td>Thursday</td>\n",
       "    </tr>\n",
       "  </tbody>\n",
       "</table>\n",
       "</div>"
      ],
      "text/plain": [
       "   passenger_count  distance_km ride_week_day\n",
       "0                1     1.683323      Thursday\n",
       "1                1     2.457590        Friday\n",
       "2                1     5.036377        Monday\n",
       "3                3     1.661683        Friday\n",
       "4                5     4.475450      Thursday"
      ]
     },
     "execution_count": 59,
     "metadata": {},
     "output_type": "execute_result"
    }
   ],
   "source": [
    "X.head()"
   ]
  },
  {
   "cell_type": "code",
   "execution_count": 60,
   "id": "287065ab",
   "metadata": {},
   "outputs": [
    {
     "data": {
      "text/plain": [
       "0     7.5\n",
       "1     7.7\n",
       "2    12.9\n",
       "3     5.3\n",
       "4    16.0\n",
       "Name: fare_amount, dtype: float64"
      ]
     },
     "execution_count": 60,
     "metadata": {},
     "output_type": "execute_result"
    }
   ],
   "source": [
    "y.head()"
   ]
  },
  {
   "cell_type": "code",
   "execution_count": 62,
   "id": "d655a821",
   "metadata": {},
   "outputs": [
    {
     "name": "stdout",
     "output_type": "stream",
     "text": [
      "(139999, 3) (139999,)\n",
      "(60000, 3) (60000,)\n"
     ]
    }
   ],
   "source": [
    "#train test split\n",
    "from sklearn.model_selection import train_test_split\n",
    "X_train, X_test, y_train, y_test = train_test_split(X, y, test_size = 0.30, random_state = 15)\n",
    "\n",
    "print(X_train.shape, y_train.shape)\n",
    "print(X_test.shape, y_test.shape)"
   ]
  },
  {
   "cell_type": "code",
   "execution_count": 63,
   "id": "f44e5df8",
   "metadata": {},
   "outputs": [
    {
     "data": {
      "text/html": [
       "<div>\n",
       "<style scoped>\n",
       "    .dataframe tbody tr th:only-of-type {\n",
       "        vertical-align: middle;\n",
       "    }\n",
       "\n",
       "    .dataframe tbody tr th {\n",
       "        vertical-align: top;\n",
       "    }\n",
       "\n",
       "    .dataframe thead th {\n",
       "        text-align: right;\n",
       "    }\n",
       "</style>\n",
       "<table border=\"1\" class=\"dataframe\">\n",
       "  <thead>\n",
       "    <tr style=\"text-align: right;\">\n",
       "      <th></th>\n",
       "      <th>passenger_count</th>\n",
       "      <th>distance_km</th>\n",
       "      <th>ride_week_day</th>\n",
       "    </tr>\n",
       "  </thead>\n",
       "  <tbody>\n",
       "    <tr>\n",
       "      <th>79822</th>\n",
       "      <td>1</td>\n",
       "      <td>2.017276</td>\n",
       "      <td>Friday</td>\n",
       "    </tr>\n",
       "    <tr>\n",
       "      <th>168562</th>\n",
       "      <td>1</td>\n",
       "      <td>0.100907</td>\n",
       "      <td>Friday</td>\n",
       "    </tr>\n",
       "    <tr>\n",
       "      <th>41499</th>\n",
       "      <td>1</td>\n",
       "      <td>0.693193</td>\n",
       "      <td>Monday</td>\n",
       "    </tr>\n",
       "    <tr>\n",
       "      <th>55964</th>\n",
       "      <td>1</td>\n",
       "      <td>1.041316</td>\n",
       "      <td>Friday</td>\n",
       "    </tr>\n",
       "    <tr>\n",
       "      <th>70100</th>\n",
       "      <td>5</td>\n",
       "      <td>3.496032</td>\n",
       "      <td>Thursday</td>\n",
       "    </tr>\n",
       "  </tbody>\n",
       "</table>\n",
       "</div>"
      ],
      "text/plain": [
       "        passenger_count  distance_km ride_week_day\n",
       "79822                 1     2.017276        Friday\n",
       "168562                1     0.100907        Friday\n",
       "41499                 1     0.693193        Monday\n",
       "55964                 1     1.041316        Friday\n",
       "70100                 5     3.496032      Thursday"
      ]
     },
     "execution_count": 63,
     "metadata": {},
     "output_type": "execute_result"
    }
   ],
   "source": [
    "X_train.head()"
   ]
  },
  {
   "cell_type": "code",
   "execution_count": 64,
   "id": "8eb763d0",
   "metadata": {},
   "outputs": [
    {
     "data": {
      "text/plain": [
       "passenger_count      int64\n",
       "distance_km        float64\n",
       "ride_week_day       object\n",
       "dtype: object"
      ]
     },
     "execution_count": 64,
     "metadata": {},
     "output_type": "execute_result"
    }
   ],
   "source": [
    "X_train.dtypes"
   ]
  },
  {
   "cell_type": "code",
   "execution_count": 65,
   "id": "556c86d3",
   "metadata": {},
   "outputs": [
    {
     "data": {
      "text/html": [
       "<div>\n",
       "<style scoped>\n",
       "    .dataframe tbody tr th:only-of-type {\n",
       "        vertical-align: middle;\n",
       "    }\n",
       "\n",
       "    .dataframe tbody tr th {\n",
       "        vertical-align: top;\n",
       "    }\n",
       "\n",
       "    .dataframe thead th {\n",
       "        text-align: right;\n",
       "    }\n",
       "</style>\n",
       "<table border=\"1\" class=\"dataframe\">\n",
       "  <thead>\n",
       "    <tr style=\"text-align: right;\">\n",
       "      <th></th>\n",
       "      <th>ride_week_day</th>\n",
       "    </tr>\n",
       "  </thead>\n",
       "  <tbody>\n",
       "    <tr>\n",
       "      <th>79822</th>\n",
       "      <td>Friday</td>\n",
       "    </tr>\n",
       "    <tr>\n",
       "      <th>168562</th>\n",
       "      <td>Friday</td>\n",
       "    </tr>\n",
       "    <tr>\n",
       "      <th>41499</th>\n",
       "      <td>Monday</td>\n",
       "    </tr>\n",
       "    <tr>\n",
       "      <th>55964</th>\n",
       "      <td>Friday</td>\n",
       "    </tr>\n",
       "    <tr>\n",
       "      <th>70100</th>\n",
       "      <td>Thursday</td>\n",
       "    </tr>\n",
       "  </tbody>\n",
       "</table>\n",
       "</div>"
      ],
      "text/plain": [
       "       ride_week_day\n",
       "79822         Friday\n",
       "168562        Friday\n",
       "41499         Monday\n",
       "55964         Friday\n",
       "70100       Thursday"
      ]
     },
     "execution_count": 65,
     "metadata": {},
     "output_type": "execute_result"
    }
   ],
   "source": [
    "X_train_cat = X_train.select_dtypes(include=['object'])\n",
    "\n",
    "X_train_cat.head()"
   ]
  },
  {
   "cell_type": "code",
   "execution_count": 66,
   "id": "c0319bee",
   "metadata": {},
   "outputs": [
    {
     "data": {
      "text/html": [
       "<div>\n",
       "<style scoped>\n",
       "    .dataframe tbody tr th:only-of-type {\n",
       "        vertical-align: middle;\n",
       "    }\n",
       "\n",
       "    .dataframe tbody tr th {\n",
       "        vertical-align: top;\n",
       "    }\n",
       "\n",
       "    .dataframe thead th {\n",
       "        text-align: right;\n",
       "    }\n",
       "</style>\n",
       "<table border=\"1\" class=\"dataframe\">\n",
       "  <thead>\n",
       "    <tr style=\"text-align: right;\">\n",
       "      <th></th>\n",
       "      <th>passenger_count</th>\n",
       "      <th>distance_km</th>\n",
       "    </tr>\n",
       "  </thead>\n",
       "  <tbody>\n",
       "    <tr>\n",
       "      <th>79822</th>\n",
       "      <td>1</td>\n",
       "      <td>2.017276</td>\n",
       "    </tr>\n",
       "    <tr>\n",
       "      <th>168562</th>\n",
       "      <td>1</td>\n",
       "      <td>0.100907</td>\n",
       "    </tr>\n",
       "    <tr>\n",
       "      <th>41499</th>\n",
       "      <td>1</td>\n",
       "      <td>0.693193</td>\n",
       "    </tr>\n",
       "    <tr>\n",
       "      <th>55964</th>\n",
       "      <td>1</td>\n",
       "      <td>1.041316</td>\n",
       "    </tr>\n",
       "    <tr>\n",
       "      <th>70100</th>\n",
       "      <td>5</td>\n",
       "      <td>3.496032</td>\n",
       "    </tr>\n",
       "  </tbody>\n",
       "</table>\n",
       "</div>"
      ],
      "text/plain": [
       "        passenger_count  distance_km\n",
       "79822                 1     2.017276\n",
       "168562                1     0.100907\n",
       "41499                 1     0.693193\n",
       "55964                 1     1.041316\n",
       "70100                 5     3.496032"
      ]
     },
     "execution_count": 66,
     "metadata": {},
     "output_type": "execute_result"
    }
   ],
   "source": [
    "X_train_num = X_train.select_dtypes(include=['int64', 'float64'])\n",
    "\n",
    "X_train_num.head()"
   ]
  },
  {
   "cell_type": "code",
   "execution_count": 67,
   "id": "c8ffe7f5",
   "metadata": {},
   "outputs": [
    {
     "data": {
      "text/html": [
       "<div>\n",
       "<style scoped>\n",
       "    .dataframe tbody tr th:only-of-type {\n",
       "        vertical-align: middle;\n",
       "    }\n",
       "\n",
       "    .dataframe tbody tr th {\n",
       "        vertical-align: top;\n",
       "    }\n",
       "\n",
       "    .dataframe thead th {\n",
       "        text-align: right;\n",
       "    }\n",
       "</style>\n",
       "<table border=\"1\" class=\"dataframe\">\n",
       "  <thead>\n",
       "    <tr style=\"text-align: right;\">\n",
       "      <th></th>\n",
       "      <th>passenger_count</th>\n",
       "      <th>distance_km</th>\n",
       "    </tr>\n",
       "  </thead>\n",
       "  <tbody>\n",
       "    <tr>\n",
       "      <th>79822</th>\n",
       "      <td>-0.483522</td>\n",
       "      <td>-0.047917</td>\n",
       "    </tr>\n",
       "    <tr>\n",
       "      <th>168562</th>\n",
       "      <td>-0.483522</td>\n",
       "      <td>-0.053056</td>\n",
       "    </tr>\n",
       "    <tr>\n",
       "      <th>41499</th>\n",
       "      <td>-0.483522</td>\n",
       "      <td>-0.051468</td>\n",
       "    </tr>\n",
       "    <tr>\n",
       "      <th>55964</th>\n",
       "      <td>-0.483522</td>\n",
       "      <td>-0.050534</td>\n",
       "    </tr>\n",
       "    <tr>\n",
       "      <th>70100</th>\n",
       "      <td>2.334389</td>\n",
       "      <td>-0.043951</td>\n",
       "    </tr>\n",
       "  </tbody>\n",
       "</table>\n",
       "</div>"
      ],
      "text/plain": [
       "        passenger_count  distance_km\n",
       "79822         -0.483522    -0.047917\n",
       "168562        -0.483522    -0.053056\n",
       "41499         -0.483522    -0.051468\n",
       "55964         -0.483522    -0.050534\n",
       "70100          2.334389    -0.043951"
      ]
     },
     "execution_count": 67,
     "metadata": {},
     "output_type": "execute_result"
    }
   ],
   "source": [
    "#scaling numerical features\n",
    "from sklearn.preprocessing import StandardScaler\n",
    "scaler = StandardScaler()\n",
    "X_train_num_rescaled = pd.DataFrame(scaler.fit_transform(X_train_num), \n",
    "                                    columns = X_train_num.columns, \n",
    "                                    index = X_train_num.index)\n",
    "\n",
    "X_train_num_rescaled.head()"
   ]
  },
  {
   "cell_type": "code",
   "execution_count": 76,
   "id": "f6a50831",
   "metadata": {},
   "outputs": [
    {
     "data": {
      "text/html": [
       "<div>\n",
       "<style scoped>\n",
       "    .dataframe tbody tr th:only-of-type {\n",
       "        vertical-align: middle;\n",
       "    }\n",
       "\n",
       "    .dataframe tbody tr th {\n",
       "        vertical-align: top;\n",
       "    }\n",
       "\n",
       "    .dataframe thead th {\n",
       "        text-align: right;\n",
       "    }\n",
       "</style>\n",
       "<table border=\"1\" class=\"dataframe\">\n",
       "  <thead>\n",
       "    <tr style=\"text-align: right;\">\n",
       "      <th></th>\n",
       "      <th>ride_week_day_Monday</th>\n",
       "      <th>ride_week_day_Saturday</th>\n",
       "      <th>ride_week_day_Sunday</th>\n",
       "      <th>ride_week_day_Thursday</th>\n",
       "      <th>ride_week_day_Tuesday</th>\n",
       "      <th>ride_week_day_Wednesday</th>\n",
       "    </tr>\n",
       "  </thead>\n",
       "  <tbody>\n",
       "    <tr>\n",
       "      <th>79822</th>\n",
       "      <td>0.0</td>\n",
       "      <td>0.0</td>\n",
       "      <td>0.0</td>\n",
       "      <td>0.0</td>\n",
       "      <td>0.0</td>\n",
       "      <td>0.0</td>\n",
       "    </tr>\n",
       "    <tr>\n",
       "      <th>168562</th>\n",
       "      <td>0.0</td>\n",
       "      <td>0.0</td>\n",
       "      <td>0.0</td>\n",
       "      <td>0.0</td>\n",
       "      <td>0.0</td>\n",
       "      <td>0.0</td>\n",
       "    </tr>\n",
       "    <tr>\n",
       "      <th>41499</th>\n",
       "      <td>1.0</td>\n",
       "      <td>0.0</td>\n",
       "      <td>0.0</td>\n",
       "      <td>0.0</td>\n",
       "      <td>0.0</td>\n",
       "      <td>0.0</td>\n",
       "    </tr>\n",
       "    <tr>\n",
       "      <th>55964</th>\n",
       "      <td>0.0</td>\n",
       "      <td>0.0</td>\n",
       "      <td>0.0</td>\n",
       "      <td>0.0</td>\n",
       "      <td>0.0</td>\n",
       "      <td>0.0</td>\n",
       "    </tr>\n",
       "    <tr>\n",
       "      <th>70100</th>\n",
       "      <td>0.0</td>\n",
       "      <td>0.0</td>\n",
       "      <td>0.0</td>\n",
       "      <td>1.0</td>\n",
       "      <td>0.0</td>\n",
       "      <td>0.0</td>\n",
       "    </tr>\n",
       "  </tbody>\n",
       "</table>\n",
       "</div>"
      ],
      "text/plain": [
       "        ride_week_day_Monday  ride_week_day_Saturday  ride_week_day_Sunday  \\\n",
       "79822                    0.0                     0.0                   0.0   \n",
       "168562                   0.0                     0.0                   0.0   \n",
       "41499                    1.0                     0.0                   0.0   \n",
       "55964                    0.0                     0.0                   0.0   \n",
       "70100                    0.0                     0.0                   0.0   \n",
       "\n",
       "        ride_week_day_Thursday  ride_week_day_Tuesday  ride_week_day_Wednesday  \n",
       "79822                      0.0                    0.0                      0.0  \n",
       "168562                     0.0                    0.0                      0.0  \n",
       "41499                      0.0                    0.0                      0.0  \n",
       "55964                      0.0                    0.0                      0.0  \n",
       "70100                      1.0                    0.0                      0.0  "
      ]
     },
     "execution_count": 76,
     "metadata": {},
     "output_type": "execute_result"
    }
   ],
   "source": [
    "from sklearn.preprocessing import OneHotEncoder\n",
    "encoder = OneHotEncoder(drop='first', sparse=False)\n",
    "X_train_cat_ohe = pd.DataFrame(encoder.fit_transform(X_train_cat), \n",
    "                               columns=encoder.get_feature_names_out(X_train_cat.columns), \n",
    "                               index = X_train_cat.index)\n",
    "\n",
    "X_train_cat_ohe.head()"
   ]
  },
  {
   "cell_type": "code",
   "execution_count": 77,
   "id": "4b46f343",
   "metadata": {},
   "outputs": [
    {
     "data": {
      "text/html": [
       "<div>\n",
       "<style scoped>\n",
       "    .dataframe tbody tr th:only-of-type {\n",
       "        vertical-align: middle;\n",
       "    }\n",
       "\n",
       "    .dataframe tbody tr th {\n",
       "        vertical-align: top;\n",
       "    }\n",
       "\n",
       "    .dataframe thead th {\n",
       "        text-align: right;\n",
       "    }\n",
       "</style>\n",
       "<table border=\"1\" class=\"dataframe\">\n",
       "  <thead>\n",
       "    <tr style=\"text-align: right;\">\n",
       "      <th></th>\n",
       "      <th>passenger_count</th>\n",
       "      <th>distance_km</th>\n",
       "      <th>ride_week_day_Monday</th>\n",
       "      <th>ride_week_day_Saturday</th>\n",
       "      <th>ride_week_day_Sunday</th>\n",
       "      <th>ride_week_day_Thursday</th>\n",
       "      <th>ride_week_day_Tuesday</th>\n",
       "      <th>ride_week_day_Wednesday</th>\n",
       "    </tr>\n",
       "  </thead>\n",
       "  <tbody>\n",
       "    <tr>\n",
       "      <th>79822</th>\n",
       "      <td>-0.483522</td>\n",
       "      <td>-0.047917</td>\n",
       "      <td>0.0</td>\n",
       "      <td>0.0</td>\n",
       "      <td>0.0</td>\n",
       "      <td>0.0</td>\n",
       "      <td>0.0</td>\n",
       "      <td>0.0</td>\n",
       "    </tr>\n",
       "    <tr>\n",
       "      <th>168562</th>\n",
       "      <td>-0.483522</td>\n",
       "      <td>-0.053056</td>\n",
       "      <td>0.0</td>\n",
       "      <td>0.0</td>\n",
       "      <td>0.0</td>\n",
       "      <td>0.0</td>\n",
       "      <td>0.0</td>\n",
       "      <td>0.0</td>\n",
       "    </tr>\n",
       "    <tr>\n",
       "      <th>41499</th>\n",
       "      <td>-0.483522</td>\n",
       "      <td>-0.051468</td>\n",
       "      <td>1.0</td>\n",
       "      <td>0.0</td>\n",
       "      <td>0.0</td>\n",
       "      <td>0.0</td>\n",
       "      <td>0.0</td>\n",
       "      <td>0.0</td>\n",
       "    </tr>\n",
       "    <tr>\n",
       "      <th>55964</th>\n",
       "      <td>-0.483522</td>\n",
       "      <td>-0.050534</td>\n",
       "      <td>0.0</td>\n",
       "      <td>0.0</td>\n",
       "      <td>0.0</td>\n",
       "      <td>0.0</td>\n",
       "      <td>0.0</td>\n",
       "      <td>0.0</td>\n",
       "    </tr>\n",
       "    <tr>\n",
       "      <th>70100</th>\n",
       "      <td>2.334389</td>\n",
       "      <td>-0.043951</td>\n",
       "      <td>0.0</td>\n",
       "      <td>0.0</td>\n",
       "      <td>0.0</td>\n",
       "      <td>1.0</td>\n",
       "      <td>0.0</td>\n",
       "      <td>0.0</td>\n",
       "    </tr>\n",
       "  </tbody>\n",
       "</table>\n",
       "</div>"
      ],
      "text/plain": [
       "        passenger_count  distance_km  ride_week_day_Monday  \\\n",
       "79822         -0.483522    -0.047917                   0.0   \n",
       "168562        -0.483522    -0.053056                   0.0   \n",
       "41499         -0.483522    -0.051468                   1.0   \n",
       "55964         -0.483522    -0.050534                   0.0   \n",
       "70100          2.334389    -0.043951                   0.0   \n",
       "\n",
       "        ride_week_day_Saturday  ride_week_day_Sunday  ride_week_day_Thursday  \\\n",
       "79822                      0.0                   0.0                     0.0   \n",
       "168562                     0.0                   0.0                     0.0   \n",
       "41499                      0.0                   0.0                     0.0   \n",
       "55964                      0.0                   0.0                     0.0   \n",
       "70100                      0.0                   0.0                     1.0   \n",
       "\n",
       "        ride_week_day_Tuesday  ride_week_day_Wednesday  \n",
       "79822                     0.0                      0.0  \n",
       "168562                    0.0                      0.0  \n",
       "41499                     0.0                      0.0  \n",
       "55964                     0.0                      0.0  \n",
       "70100                     0.0                      0.0  "
      ]
     },
     "execution_count": 77,
     "metadata": {},
     "output_type": "execute_result"
    }
   ],
   "source": [
    "X_train_transformed = pd.concat([X_train_num_rescaled, X_train_cat_ohe], axis=1)\n",
    "\n",
    "X_train_transformed.head()"
   ]
  },
  {
   "cell_type": "code",
   "execution_count": 70,
   "id": "a67bf035",
   "metadata": {},
   "outputs": [],
   "source": [
    "#preparing test data"
   ]
  },
  {
   "cell_type": "code",
   "execution_count": 71,
   "id": "1d64b013",
   "metadata": {},
   "outputs": [
    {
     "data": {
      "text/html": [
       "<div>\n",
       "<style scoped>\n",
       "    .dataframe tbody tr th:only-of-type {\n",
       "        vertical-align: middle;\n",
       "    }\n",
       "\n",
       "    .dataframe tbody tr th {\n",
       "        vertical-align: top;\n",
       "    }\n",
       "\n",
       "    .dataframe thead th {\n",
       "        text-align: right;\n",
       "    }\n",
       "</style>\n",
       "<table border=\"1\" class=\"dataframe\">\n",
       "  <thead>\n",
       "    <tr style=\"text-align: right;\">\n",
       "      <th></th>\n",
       "      <th>passenger_count</th>\n",
       "      <th>distance_km</th>\n",
       "      <th>ride_week_day</th>\n",
       "    </tr>\n",
       "  </thead>\n",
       "  <tbody>\n",
       "    <tr>\n",
       "      <th>186250</th>\n",
       "      <td>5</td>\n",
       "      <td>0.601638</td>\n",
       "      <td>Friday</td>\n",
       "    </tr>\n",
       "    <tr>\n",
       "      <th>117887</th>\n",
       "      <td>1</td>\n",
       "      <td>0.443328</td>\n",
       "      <td>Monday</td>\n",
       "    </tr>\n",
       "    <tr>\n",
       "      <th>57591</th>\n",
       "      <td>1</td>\n",
       "      <td>1.371128</td>\n",
       "      <td>Thursday</td>\n",
       "    </tr>\n",
       "    <tr>\n",
       "      <th>196739</th>\n",
       "      <td>1</td>\n",
       "      <td>2.592268</td>\n",
       "      <td>Saturday</td>\n",
       "    </tr>\n",
       "    <tr>\n",
       "      <th>139627</th>\n",
       "      <td>1</td>\n",
       "      <td>1.460440</td>\n",
       "      <td>Saturday</td>\n",
       "    </tr>\n",
       "  </tbody>\n",
       "</table>\n",
       "</div>"
      ],
      "text/plain": [
       "        passenger_count  distance_km ride_week_day\n",
       "186250                5     0.601638        Friday\n",
       "117887                1     0.443328        Monday\n",
       "57591                 1     1.371128      Thursday\n",
       "196739                1     2.592268      Saturday\n",
       "139627                1     1.460440      Saturday"
      ]
     },
     "execution_count": 71,
     "metadata": {},
     "output_type": "execute_result"
    }
   ],
   "source": [
    "X_test.head()"
   ]
  },
  {
   "cell_type": "code",
   "execution_count": 72,
   "id": "cb644412",
   "metadata": {},
   "outputs": [
    {
     "data": {
      "text/html": [
       "<div>\n",
       "<style scoped>\n",
       "    .dataframe tbody tr th:only-of-type {\n",
       "        vertical-align: middle;\n",
       "    }\n",
       "\n",
       "    .dataframe tbody tr th {\n",
       "        vertical-align: top;\n",
       "    }\n",
       "\n",
       "    .dataframe thead th {\n",
       "        text-align: right;\n",
       "    }\n",
       "</style>\n",
       "<table border=\"1\" class=\"dataframe\">\n",
       "  <thead>\n",
       "    <tr style=\"text-align: right;\">\n",
       "      <th></th>\n",
       "      <th>ride_week_day</th>\n",
       "    </tr>\n",
       "  </thead>\n",
       "  <tbody>\n",
       "    <tr>\n",
       "      <th>186250</th>\n",
       "      <td>Friday</td>\n",
       "    </tr>\n",
       "    <tr>\n",
       "      <th>117887</th>\n",
       "      <td>Monday</td>\n",
       "    </tr>\n",
       "    <tr>\n",
       "      <th>57591</th>\n",
       "      <td>Thursday</td>\n",
       "    </tr>\n",
       "    <tr>\n",
       "      <th>196739</th>\n",
       "      <td>Saturday</td>\n",
       "    </tr>\n",
       "    <tr>\n",
       "      <th>139627</th>\n",
       "      <td>Saturday</td>\n",
       "    </tr>\n",
       "  </tbody>\n",
       "</table>\n",
       "</div>"
      ],
      "text/plain": [
       "       ride_week_day\n",
       "186250        Friday\n",
       "117887        Monday\n",
       "57591       Thursday\n",
       "196739      Saturday\n",
       "139627      Saturday"
      ]
     },
     "execution_count": 72,
     "metadata": {},
     "output_type": "execute_result"
    }
   ],
   "source": [
    "X_test_cat = X_test.select_dtypes(include=['object'])\n",
    "\n",
    "X_test_cat.head()"
   ]
  },
  {
   "cell_type": "code",
   "execution_count": 73,
   "id": "a610848a",
   "metadata": {},
   "outputs": [
    {
     "data": {
      "text/html": [
       "<div>\n",
       "<style scoped>\n",
       "    .dataframe tbody tr th:only-of-type {\n",
       "        vertical-align: middle;\n",
       "    }\n",
       "\n",
       "    .dataframe tbody tr th {\n",
       "        vertical-align: top;\n",
       "    }\n",
       "\n",
       "    .dataframe thead th {\n",
       "        text-align: right;\n",
       "    }\n",
       "</style>\n",
       "<table border=\"1\" class=\"dataframe\">\n",
       "  <thead>\n",
       "    <tr style=\"text-align: right;\">\n",
       "      <th></th>\n",
       "      <th>passenger_count</th>\n",
       "      <th>distance_km</th>\n",
       "    </tr>\n",
       "  </thead>\n",
       "  <tbody>\n",
       "    <tr>\n",
       "      <th>186250</th>\n",
       "      <td>5</td>\n",
       "      <td>0.601638</td>\n",
       "    </tr>\n",
       "    <tr>\n",
       "      <th>117887</th>\n",
       "      <td>1</td>\n",
       "      <td>0.443328</td>\n",
       "    </tr>\n",
       "    <tr>\n",
       "      <th>57591</th>\n",
       "      <td>1</td>\n",
       "      <td>1.371128</td>\n",
       "    </tr>\n",
       "    <tr>\n",
       "      <th>196739</th>\n",
       "      <td>1</td>\n",
       "      <td>2.592268</td>\n",
       "    </tr>\n",
       "    <tr>\n",
       "      <th>139627</th>\n",
       "      <td>1</td>\n",
       "      <td>1.460440</td>\n",
       "    </tr>\n",
       "  </tbody>\n",
       "</table>\n",
       "</div>"
      ],
      "text/plain": [
       "        passenger_count  distance_km\n",
       "186250                5     0.601638\n",
       "117887                1     0.443328\n",
       "57591                 1     1.371128\n",
       "196739                1     2.592268\n",
       "139627                1     1.460440"
      ]
     },
     "execution_count": 73,
     "metadata": {},
     "output_type": "execute_result"
    }
   ],
   "source": [
    "X_test_num = X_test.select_dtypes(include=['int64', 'float64'])\n",
    "\n",
    "X_test_num.head()"
   ]
  },
  {
   "cell_type": "code",
   "execution_count": 74,
   "id": "593960c4",
   "metadata": {},
   "outputs": [
    {
     "data": {
      "text/html": [
       "<div>\n",
       "<style scoped>\n",
       "    .dataframe tbody tr th:only-of-type {\n",
       "        vertical-align: middle;\n",
       "    }\n",
       "\n",
       "    .dataframe tbody tr th {\n",
       "        vertical-align: top;\n",
       "    }\n",
       "\n",
       "    .dataframe thead th {\n",
       "        text-align: right;\n",
       "    }\n",
       "</style>\n",
       "<table border=\"1\" class=\"dataframe\">\n",
       "  <thead>\n",
       "    <tr style=\"text-align: right;\">\n",
       "      <th></th>\n",
       "      <th>passenger_count</th>\n",
       "      <th>distance_km</th>\n",
       "    </tr>\n",
       "  </thead>\n",
       "  <tbody>\n",
       "    <tr>\n",
       "      <th>186250</th>\n",
       "      <td>2.334389</td>\n",
       "      <td>-0.051713</td>\n",
       "    </tr>\n",
       "    <tr>\n",
       "      <th>117887</th>\n",
       "      <td>-0.483522</td>\n",
       "      <td>-0.052138</td>\n",
       "    </tr>\n",
       "    <tr>\n",
       "      <th>57591</th>\n",
       "      <td>-0.483522</td>\n",
       "      <td>-0.049650</td>\n",
       "    </tr>\n",
       "    <tr>\n",
       "      <th>196739</th>\n",
       "      <td>-0.483522</td>\n",
       "      <td>-0.046375</td>\n",
       "    </tr>\n",
       "    <tr>\n",
       "      <th>139627</th>\n",
       "      <td>-0.483522</td>\n",
       "      <td>-0.049410</td>\n",
       "    </tr>\n",
       "  </tbody>\n",
       "</table>\n",
       "</div>"
      ],
      "text/plain": [
       "        passenger_count  distance_km\n",
       "186250         2.334389    -0.051713\n",
       "117887        -0.483522    -0.052138\n",
       "57591         -0.483522    -0.049650\n",
       "196739        -0.483522    -0.046375\n",
       "139627        -0.483522    -0.049410"
      ]
     },
     "execution_count": 74,
     "metadata": {},
     "output_type": "execute_result"
    }
   ],
   "source": [
    "X_test_num_rescaled = pd.DataFrame(scaler.transform(X_test_num), \n",
    "                                   columns = X_test_num.columns, \n",
    "                                   index = X_test_num.index)\n",
    "\n",
    "X_test_num_rescaled.head()"
   ]
  },
  {
   "cell_type": "code",
   "execution_count": 112,
   "id": "cd1f21d3",
   "metadata": {},
   "outputs": [],
   "source": [
    "from sklearn.preprocessing import OneHotEncoder\n",
    "encoder = OneHotEncoder(drop='first', sparse=False)\n",
    "encoder.fit(X_train_cat)\n",
    "\n",
    "# Transform test data using the same encoder\n",
    "X_test_cat_ohe = encoder.transform(X_test_cat)\n",
    "\n",
    "# Create a DataFrame with one-hot encoded columns\n",
    "X_test_cat_ohe = pd.DataFrame(X_test_cat_ohe, \n",
    "                                  columns=encoder.get_feature_names_out(X_test_cat.columns), \n",
    "                                  index=X_test_cat.index)"
   ]
  },
  {
   "cell_type": "code",
   "execution_count": 113,
   "id": "ec8ee869",
   "metadata": {},
   "outputs": [
    {
     "data": {
      "text/html": [
       "<div>\n",
       "<style scoped>\n",
       "    .dataframe tbody tr th:only-of-type {\n",
       "        vertical-align: middle;\n",
       "    }\n",
       "\n",
       "    .dataframe tbody tr th {\n",
       "        vertical-align: top;\n",
       "    }\n",
       "\n",
       "    .dataframe thead th {\n",
       "        text-align: right;\n",
       "    }\n",
       "</style>\n",
       "<table border=\"1\" class=\"dataframe\">\n",
       "  <thead>\n",
       "    <tr style=\"text-align: right;\">\n",
       "      <th></th>\n",
       "      <th>ride_week_day_Monday</th>\n",
       "      <th>ride_week_day_Saturday</th>\n",
       "      <th>ride_week_day_Sunday</th>\n",
       "      <th>ride_week_day_Thursday</th>\n",
       "      <th>ride_week_day_Tuesday</th>\n",
       "      <th>ride_week_day_Wednesday</th>\n",
       "    </tr>\n",
       "  </thead>\n",
       "  <tbody>\n",
       "    <tr>\n",
       "      <th>186250</th>\n",
       "      <td>0.0</td>\n",
       "      <td>0.0</td>\n",
       "      <td>0.0</td>\n",
       "      <td>0.0</td>\n",
       "      <td>0.0</td>\n",
       "      <td>0.0</td>\n",
       "    </tr>\n",
       "    <tr>\n",
       "      <th>117887</th>\n",
       "      <td>1.0</td>\n",
       "      <td>0.0</td>\n",
       "      <td>0.0</td>\n",
       "      <td>0.0</td>\n",
       "      <td>0.0</td>\n",
       "      <td>0.0</td>\n",
       "    </tr>\n",
       "    <tr>\n",
       "      <th>57591</th>\n",
       "      <td>0.0</td>\n",
       "      <td>0.0</td>\n",
       "      <td>0.0</td>\n",
       "      <td>1.0</td>\n",
       "      <td>0.0</td>\n",
       "      <td>0.0</td>\n",
       "    </tr>\n",
       "    <tr>\n",
       "      <th>196739</th>\n",
       "      <td>0.0</td>\n",
       "      <td>1.0</td>\n",
       "      <td>0.0</td>\n",
       "      <td>0.0</td>\n",
       "      <td>0.0</td>\n",
       "      <td>0.0</td>\n",
       "    </tr>\n",
       "    <tr>\n",
       "      <th>139627</th>\n",
       "      <td>0.0</td>\n",
       "      <td>1.0</td>\n",
       "      <td>0.0</td>\n",
       "      <td>0.0</td>\n",
       "      <td>0.0</td>\n",
       "      <td>0.0</td>\n",
       "    </tr>\n",
       "  </tbody>\n",
       "</table>\n",
       "</div>"
      ],
      "text/plain": [
       "        ride_week_day_Monday  ride_week_day_Saturday  ride_week_day_Sunday  \\\n",
       "186250                   0.0                     0.0                   0.0   \n",
       "117887                   1.0                     0.0                   0.0   \n",
       "57591                    0.0                     0.0                   0.0   \n",
       "196739                   0.0                     1.0                   0.0   \n",
       "139627                   0.0                     1.0                   0.0   \n",
       "\n",
       "        ride_week_day_Thursday  ride_week_day_Tuesday  ride_week_day_Wednesday  \n",
       "186250                     0.0                    0.0                      0.0  \n",
       "117887                     0.0                    0.0                      0.0  \n",
       "57591                      1.0                    0.0                      0.0  \n",
       "196739                     0.0                    0.0                      0.0  \n",
       "139627                     0.0                    0.0                      0.0  "
      ]
     },
     "execution_count": 113,
     "metadata": {},
     "output_type": "execute_result"
    }
   ],
   "source": [
    "X_test_cat_ohe.head()"
   ]
  },
  {
   "cell_type": "code",
   "execution_count": 114,
   "id": "d67dfd89",
   "metadata": {},
   "outputs": [
    {
     "data": {
      "text/html": [
       "<div>\n",
       "<style scoped>\n",
       "    .dataframe tbody tr th:only-of-type {\n",
       "        vertical-align: middle;\n",
       "    }\n",
       "\n",
       "    .dataframe tbody tr th {\n",
       "        vertical-align: top;\n",
       "    }\n",
       "\n",
       "    .dataframe thead th {\n",
       "        text-align: right;\n",
       "    }\n",
       "</style>\n",
       "<table border=\"1\" class=\"dataframe\">\n",
       "  <thead>\n",
       "    <tr style=\"text-align: right;\">\n",
       "      <th></th>\n",
       "      <th>passenger_count</th>\n",
       "      <th>distance_km</th>\n",
       "      <th>ride_week_day_Monday</th>\n",
       "      <th>ride_week_day_Saturday</th>\n",
       "      <th>ride_week_day_Sunday</th>\n",
       "      <th>ride_week_day_Thursday</th>\n",
       "      <th>ride_week_day_Tuesday</th>\n",
       "      <th>ride_week_day_Wednesday</th>\n",
       "    </tr>\n",
       "  </thead>\n",
       "  <tbody>\n",
       "    <tr>\n",
       "      <th>186250</th>\n",
       "      <td>2.334389</td>\n",
       "      <td>-0.051713</td>\n",
       "      <td>0.0</td>\n",
       "      <td>0.0</td>\n",
       "      <td>0.0</td>\n",
       "      <td>0.0</td>\n",
       "      <td>0.0</td>\n",
       "      <td>0.0</td>\n",
       "    </tr>\n",
       "    <tr>\n",
       "      <th>117887</th>\n",
       "      <td>-0.483522</td>\n",
       "      <td>-0.052138</td>\n",
       "      <td>1.0</td>\n",
       "      <td>0.0</td>\n",
       "      <td>0.0</td>\n",
       "      <td>0.0</td>\n",
       "      <td>0.0</td>\n",
       "      <td>0.0</td>\n",
       "    </tr>\n",
       "    <tr>\n",
       "      <th>57591</th>\n",
       "      <td>-0.483522</td>\n",
       "      <td>-0.049650</td>\n",
       "      <td>0.0</td>\n",
       "      <td>0.0</td>\n",
       "      <td>0.0</td>\n",
       "      <td>1.0</td>\n",
       "      <td>0.0</td>\n",
       "      <td>0.0</td>\n",
       "    </tr>\n",
       "    <tr>\n",
       "      <th>196739</th>\n",
       "      <td>-0.483522</td>\n",
       "      <td>-0.046375</td>\n",
       "      <td>0.0</td>\n",
       "      <td>1.0</td>\n",
       "      <td>0.0</td>\n",
       "      <td>0.0</td>\n",
       "      <td>0.0</td>\n",
       "      <td>0.0</td>\n",
       "    </tr>\n",
       "    <tr>\n",
       "      <th>139627</th>\n",
       "      <td>-0.483522</td>\n",
       "      <td>-0.049410</td>\n",
       "      <td>0.0</td>\n",
       "      <td>1.0</td>\n",
       "      <td>0.0</td>\n",
       "      <td>0.0</td>\n",
       "      <td>0.0</td>\n",
       "      <td>0.0</td>\n",
       "    </tr>\n",
       "  </tbody>\n",
       "</table>\n",
       "</div>"
      ],
      "text/plain": [
       "        passenger_count  distance_km  ride_week_day_Monday  \\\n",
       "186250         2.334389    -0.051713                   0.0   \n",
       "117887        -0.483522    -0.052138                   1.0   \n",
       "57591         -0.483522    -0.049650                   0.0   \n",
       "196739        -0.483522    -0.046375                   0.0   \n",
       "139627        -0.483522    -0.049410                   0.0   \n",
       "\n",
       "        ride_week_day_Saturday  ride_week_day_Sunday  ride_week_day_Thursday  \\\n",
       "186250                     0.0                   0.0                     0.0   \n",
       "117887                     0.0                   0.0                     0.0   \n",
       "57591                      0.0                   0.0                     1.0   \n",
       "196739                     1.0                   0.0                     0.0   \n",
       "139627                     1.0                   0.0                     0.0   \n",
       "\n",
       "        ride_week_day_Tuesday  ride_week_day_Wednesday  \n",
       "186250                    0.0                      0.0  \n",
       "117887                    0.0                      0.0  \n",
       "57591                     0.0                      0.0  \n",
       "196739                    0.0                      0.0  \n",
       "139627                    0.0                      0.0  "
      ]
     },
     "execution_count": 114,
     "metadata": {},
     "output_type": "execute_result"
    }
   ],
   "source": [
    "X_test_transformed = pd.concat([X_test_num_rescaled, X_test_cat_ohe], axis=1)\n",
    "\n",
    "X_test_transformed.head()"
   ]
  },
  {
   "cell_type": "markdown",
   "id": "8524d627",
   "metadata": {},
   "source": [
    "# Linear Regression"
   ]
  },
  {
   "cell_type": "code",
   "execution_count": 115,
   "id": "c83eb0d4",
   "metadata": {},
   "outputs": [
    {
     "data": {
      "text/plain": [
       "LinearRegression()"
      ]
     },
     "execution_count": 115,
     "metadata": {},
     "output_type": "execute_result"
    }
   ],
   "source": [
    "from sklearn.linear_model import LinearRegression\n",
    "regressor = LinearRegression()\n",
    "regressor.fit(X_train_transformed, y_train)"
   ]
  },
  {
   "cell_type": "code",
   "execution_count": 116,
   "id": "4cbd031d",
   "metadata": {},
   "outputs": [],
   "source": [
    "y_train_pred = regressor.predict(X_train_transformed)"
   ]
  },
  {
   "cell_type": "code",
   "execution_count": 117,
   "id": "7920dd39",
   "metadata": {},
   "outputs": [
    {
     "name": "stdout",
     "output_type": "stream",
     "text": [
      "0.0012965528237314228\n"
     ]
    }
   ],
   "source": [
    "from sklearn import metrics\n",
    "print(metrics.r2_score(y_train, y_train_pred))"
   ]
  },
  {
   "cell_type": "code",
   "execution_count": 118,
   "id": "cc216e9c",
   "metadata": {},
   "outputs": [
    {
     "name": "stdout",
     "output_type": "stream",
     "text": [
      "0.001246614322139239\n"
     ]
    }
   ],
   "source": [
    "r2 = metrics.r2_score(y_train, y_train_pred)\n",
    "n = len(y_test)\n",
    "k = X_test.shape[1]\n",
    "\n",
    "r2_adj = 1 - (1-r2)*(n-1)/(n-k-1)\n",
    "\n",
    "print(r2_adj)"
   ]
  },
  {
   "cell_type": "code",
   "execution_count": 119,
   "id": "3b2e9b1a",
   "metadata": {},
   "outputs": [],
   "source": [
    "y_test_pred = regressor.predict(X_test_transformed)"
   ]
  },
  {
   "cell_type": "code",
   "execution_count": 120,
   "id": "ae7170b2",
   "metadata": {},
   "outputs": [
    {
     "data": {
      "text/html": [
       "<div>\n",
       "<style scoped>\n",
       "    .dataframe tbody tr th:only-of-type {\n",
       "        vertical-align: middle;\n",
       "    }\n",
       "\n",
       "    .dataframe tbody tr th {\n",
       "        vertical-align: top;\n",
       "    }\n",
       "\n",
       "    .dataframe thead th {\n",
       "        text-align: right;\n",
       "    }\n",
       "</style>\n",
       "<table border=\"1\" class=\"dataframe\">\n",
       "  <thead>\n",
       "    <tr style=\"text-align: right;\">\n",
       "      <th></th>\n",
       "      <th>Actual</th>\n",
       "      <th>Predicted</th>\n",
       "    </tr>\n",
       "  </thead>\n",
       "  <tbody>\n",
       "    <tr>\n",
       "      <th>186250</th>\n",
       "      <td>4.1</td>\n",
       "      <td>11.650724</td>\n",
       "    </tr>\n",
       "    <tr>\n",
       "      <th>117887</th>\n",
       "      <td>4.5</td>\n",
       "      <td>11.355589</td>\n",
       "    </tr>\n",
       "    <tr>\n",
       "      <th>57591</th>\n",
       "      <td>8.0</td>\n",
       "      <td>11.401764</td>\n",
       "    </tr>\n",
       "    <tr>\n",
       "      <th>196739</th>\n",
       "      <td>11.7</td>\n",
       "      <td>10.958645</td>\n",
       "    </tr>\n",
       "    <tr>\n",
       "      <th>139627</th>\n",
       "      <td>5.7</td>\n",
       "      <td>10.957859</td>\n",
       "    </tr>\n",
       "  </tbody>\n",
       "</table>\n",
       "</div>"
      ],
      "text/plain": [
       "        Actual  Predicted\n",
       "186250     4.1  11.650724\n",
       "117887     4.5  11.355589\n",
       "57591      8.0  11.401764\n",
       "196739    11.7  10.958645\n",
       "139627     5.7  10.957859"
      ]
     },
     "execution_count": 120,
     "metadata": {},
     "output_type": "execute_result"
    }
   ],
   "source": [
    "temp_df = pd.DataFrame({'Actual': y_test, 'Predicted': y_test_pred})\n",
    "\n",
    "temp_df.head()"
   ]
  },
  {
   "cell_type": "code",
   "execution_count": 121,
   "id": "748cfac4",
   "metadata": {},
   "outputs": [
    {
     "name": "stdout",
     "output_type": "stream",
     "text": [
      "0.0010397982046492782\n"
     ]
    }
   ],
   "source": [
    "print(metrics.r2_score(y_test, y_test_pred))"
   ]
  },
  {
   "cell_type": "code",
   "execution_count": 128,
   "id": "9cee75fd",
   "metadata": {},
   "outputs": [
    {
     "name": "stdout",
     "output_type": "stream",
     "text": [
      "0.000989846864470234\n"
     ]
    }
   ],
   "source": [
    "r2 = metrics.r2_score(y_test, y_test_pred)\n",
    "n = len(y_test)\n",
    "k = X_test.shape[1]\n",
    "\n",
    "r2_adj = 1 - (1-r2)*(n-1)/(n-k-1)\n",
    "\n",
    "print(r2_adj)"
   ]
  },
  {
   "cell_type": "markdown",
   "id": "137076e3",
   "metadata": {},
   "source": [
    "# Random Forest "
   ]
  },
  {
   "cell_type": "code",
   "execution_count": 122,
   "id": "5345a2e5",
   "metadata": {},
   "outputs": [
    {
     "data": {
      "text/plain": [
       "RandomForestRegressor()"
      ]
     },
     "execution_count": 122,
     "metadata": {},
     "output_type": "execute_result"
    }
   ],
   "source": [
    "from sklearn.ensemble import RandomForestRegressor\n",
    "regressor_rf = RandomForestRegressor()\n",
    "regressor_rf.fit(X_train_transformed, y_train)"
   ]
  },
  {
   "cell_type": "code",
   "execution_count": 129,
   "id": "4a1386d3",
   "metadata": {},
   "outputs": [],
   "source": [
    "y_train_pred = regressor.predict(X_train_transformed)"
   ]
  },
  {
   "cell_type": "code",
   "execution_count": 130,
   "id": "67a854e9",
   "metadata": {},
   "outputs": [
    {
     "name": "stdout",
     "output_type": "stream",
     "text": [
      "0.0012965528237314228\n"
     ]
    }
   ],
   "source": [
    "from sklearn import metrics\n",
    "print(metrics.r2_score(y_train, y_train_pred))"
   ]
  },
  {
   "cell_type": "code",
   "execution_count": 131,
   "id": "3065b58d",
   "metadata": {},
   "outputs": [
    {
     "name": "stdout",
     "output_type": "stream",
     "text": [
      "0.001246614322139239\n"
     ]
    }
   ],
   "source": [
    "r2 = metrics.r2_score(y_train, y_train_pred)\n",
    "n = len(y_test)\n",
    "k = X_test.shape[1]\n",
    "\n",
    "r2_adj = 1 - (1-r2)*(n-1)/(n-k-1)\n",
    "\n",
    "print(r2_adj)"
   ]
  },
  {
   "cell_type": "code",
   "execution_count": 132,
   "id": "c6f46d7a",
   "metadata": {},
   "outputs": [],
   "source": [
    "y_test_pred = regressor.predict(X_test_transformed)"
   ]
  },
  {
   "cell_type": "code",
   "execution_count": 133,
   "id": "d7b15197",
   "metadata": {},
   "outputs": [
    {
     "name": "stdout",
     "output_type": "stream",
     "text": [
      "0.0010397982046492782\n"
     ]
    }
   ],
   "source": [
    "print(metrics.r2_score(y_test, y_test_pred))"
   ]
  },
  {
   "cell_type": "code",
   "execution_count": 134,
   "id": "882c36b6",
   "metadata": {},
   "outputs": [
    {
     "name": "stdout",
     "output_type": "stream",
     "text": [
      "0.001246614322139239\n"
     ]
    }
   ],
   "source": [
    "r2 = metrics.r2_score(y_train, y_train_pred)\n",
    "n = len(y_test)\n",
    "k = X_test.shape[1]\n",
    "\n",
    "r2_adj = 1 - (1-r2)*(n-1)/(n-k-1)\n",
    "\n",
    "print(r2_adj)"
   ]
  },
  {
   "cell_type": "markdown",
   "id": "6965c6fd",
   "metadata": {},
   "source": [
    "# Decision tree"
   ]
  },
  {
   "cell_type": "code",
   "execution_count": 136,
   "id": "5b3cef79",
   "metadata": {},
   "outputs": [
    {
     "data": {
      "text/plain": [
       "DecisionTreeRegressor()"
      ]
     },
     "execution_count": 136,
     "metadata": {},
     "output_type": "execute_result"
    }
   ],
   "source": [
    "from sklearn.tree import DecisionTreeRegressor\n",
    "regressor = DecisionTreeRegressor()\n",
    "regressor.fit(X_train_transformed, y_train)"
   ]
  },
  {
   "cell_type": "code",
   "execution_count": 137,
   "id": "566ce2c2",
   "metadata": {},
   "outputs": [],
   "source": [
    "y_train_pred = regressor.predict(X_train_transformed)"
   ]
  },
  {
   "cell_type": "code",
   "execution_count": 138,
   "id": "b5fe230e",
   "metadata": {},
   "outputs": [
    {
     "name": "stdout",
     "output_type": "stream",
     "text": [
      "0.9280622144246233\n"
     ]
    }
   ],
   "source": [
    "print(metrics.r2_score(y_train, y_train_pred))"
   ]
  },
  {
   "cell_type": "code",
   "execution_count": 139,
   "id": "167f9a90",
   "metadata": {},
   "outputs": [
    {
     "name": "stdout",
     "output_type": "stream",
     "text": [
      "0.000989846864470234\n"
     ]
    }
   ],
   "source": [
    "r2 = metrics.r2_score(y_test, y_test_pred)\n",
    "n = len(y_test)\n",
    "k = X_test.shape[1]\n",
    "\n",
    "r2_adj = 1 - (1-r2)*(n-1)/(n-k-1)\n",
    "\n",
    "print(r2_adj)"
   ]
  },
  {
   "cell_type": "code",
   "execution_count": null,
   "id": "bfba62d8",
   "metadata": {},
   "outputs": [],
   "source": []
  }
 ],
 "metadata": {
  "kernelspec": {
   "display_name": "Python 3 (ipykernel)",
   "language": "python",
   "name": "python3"
  },
  "language_info": {
   "codemirror_mode": {
    "name": "ipython",
    "version": 3
   },
   "file_extension": ".py",
   "mimetype": "text/x-python",
   "name": "python",
   "nbconvert_exporter": "python",
   "pygments_lexer": "ipython3",
   "version": "3.9.13"
  }
 },
 "nbformat": 4,
 "nbformat_minor": 5
}
